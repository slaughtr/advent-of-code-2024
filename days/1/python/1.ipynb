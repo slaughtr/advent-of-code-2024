{
 "cells": [
  {
   "cell_type": "markdown",
   "metadata": {},
   "source": [
    "To measure the difference between two lists, pair up corresponding numbers after sorting both lists (smallest with smallest, second-smallest with second-smallest, and so on) and sum up the absolute differences between each pair. In the given example, pairing up the sorted lists [1,2,3,3,3,4] and [3,3,3,4,5,9] results in a total distance of 11 by adding up the differences between each corresponding pair (2+1+0+1+2+5)."
   ]
  },
  {
   "cell_type": "code",
   "execution_count": 27,
   "metadata": {},
   "outputs": [],
   "source": [
    "left_column = []\n",
    "right_column = []\n",
    "distances = []\n",
    "# file is relative to where the jupyter server is started, in this case days/\n",
    "with open('1/input.txt', 'r') as f:\n",
    "    data = f.read().splitlines()"
   ]
  },
  {
   "cell_type": "code",
   "execution_count": 28,
   "metadata": {},
   "outputs": [],
   "source": [
    "for line in data:\n",
    "    rows = line.split('   ')\n",
    "    left_column.append(int(rows[0]))\n",
    "    right_column.append(int(rows[1]))\n",
    "\n",
    "left_col_sorted = sorted(left_column)\n",
    "right_col_sorted = sorted(right_column)"
   ]
  },
  {
   "cell_type": "code",
   "execution_count": 29,
   "metadata": {},
   "outputs": [],
   "source": [
    "for idx in range(len(left_column)):\n",
    "    distances.append(abs(left_col_sorted[idx] - right_col_sorted[idx]))\n"
   ]
  },
  {
   "cell_type": "code",
   "execution_count": 30,
   "metadata": {},
   "outputs": [
    {
     "name": "stdout",
     "output_type": "stream",
     "text": [
      "1651298\n"
     ]
    }
   ],
   "source": [
    "total = 0\n",
    "while len(distances) > 0: total += distances.pop()\n",
    "print(total)"
   ]
  },
  {
   "cell_type": "markdown",
   "metadata": {},
   "source": [
    "This time, you'll need to figure out exactly how often each number from the left list appears in the right list. Calculate a total similarity score by adding up each number in the left list after multiplying it by the number of times that number appears in the right list."
   ]
  },
  {
   "cell_type": "code",
   "execution_count": 1,
   "metadata": {},
   "outputs": [],
   "source": [
    "occurences = {\n",
    "    # left_num = right_num_times_seen\n",
    "}\n",
    "\n",
    "total = 0\n",
    "\n",
    "for num in left_column:\n",
    "    occurences[num] = 0\n",
    "    for righty in right_column:\n",
    "        if righty == num:\n",
    "            occurences[num] += 1\n",
    "    \n",
    "for num in occurences:\n",
    "    total += (num * occurences[num])\n",
    "   \n",
    "print(total)"
   ]
  }
 ],
 "metadata": {
  "kernelspec": {
   "display_name": ".venv",
   "language": "python",
   "name": "python3"
  },
  "language_info": {
   "name": "python",
   "version": "3.12.7"
  }
 },
 "nbformat": 4,
 "nbformat_minor": 2
}
